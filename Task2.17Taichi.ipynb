{
  "nbformat": 4,
  "nbformat_minor": 0,
  "metadata": {
    "colab": {
      "provenance": []
    },
    "kernelspec": {
      "name": "python3",
      "display_name": "Python 3"
    },
    "language_info": {
      "name": "python"
    },
    "accelerator": "GPU",
    "gpuClass": "standard"
  },
  "cells": [
    {
      "cell_type": "code",
      "execution_count": 1,
      "metadata": {
        "id": "64rUkRzleqph"
      },
      "outputs": [],
      "source": [
        "import numpy as np\n",
        "import numpy.typing as npt"
      ]
    },
    {
      "cell_type": "code",
      "source": [
        "#necessary to run in colab, without it crushes, see: https://github.com/taichi-dev/taichi/issues/235\n",
        "import os, json, signal, time\n",
        "if 'libtcmalloc' in os.environ.get('LD_PRELOAD', ''):\n",
        "  kernel_fn = '/usr/local/share/jupyter/kernels/python3/kernel.json'\n",
        "  spec = json.load(open(kernel_fn))\n",
        "  spec['env'] = {'LD_PRELOAD': ''}\n",
        "  json.dump(spec, open(kernel_fn, 'w'))\n",
        "  print(\"Installed Taichi workaround. Don't wait for this cell to finish,\")\n",
        "  print('just REFRESH the browser tab and RUN this cell again.', flush=True)\n",
        "  time.sleep(0.5)\n",
        "  # killing the kernel manager so that specs get reloaded\n",
        "  os.kill(os.getppid(), signal.SIGTERM)\n",
        "else:\n",
        "  print('Kernel is Taichi-ready!')"
      ],
      "metadata": {
        "colab": {
          "base_uri": "https://localhost:8080/"
        },
        "id": "4Oz5fzvxlDb0",
        "outputId": "47f5b64e-accf-49e2-917c-46f7d56c8184"
      },
      "execution_count": 2,
      "outputs": [
        {
          "output_type": "stream",
          "name": "stdout",
          "text": [
            "Kernel is Taichi-ready!\n"
          ]
        }
      ]
    },
    {
      "cell_type": "code",
      "source": [
        "!pip install taichi"
      ],
      "metadata": {
        "colab": {
          "base_uri": "https://localhost:8080/"
        },
        "id": "g5F6rRaHjBy1",
        "outputId": "7c237330-e500-4d4f-e0b1-a4285b256778"
      },
      "execution_count": 3,
      "outputs": [
        {
          "output_type": "stream",
          "name": "stdout",
          "text": [
            "Looking in indexes: https://pypi.org/simple, https://us-python.pkg.dev/colab-wheels/public/simple/\n",
            "Collecting taichi\n",
            "  Downloading taichi-1.4.0-cp38-cp38-manylinux_2_27_x86_64.whl (32.6 MB)\n",
            "\u001b[2K     \u001b[90m━━━━━━━━━━━━━━━━━━━━━━━━━━━━━━━━━━━━━━━━\u001b[0m \u001b[32m32.6/32.6 MB\u001b[0m \u001b[31m35.4 MB/s\u001b[0m eta \u001b[36m0:00:00\u001b[0m\n",
            "\u001b[?25hCollecting colorama\n",
            "  Downloading colorama-0.4.6-py2.py3-none-any.whl (25 kB)\n",
            "Requirement already satisfied: numpy in /usr/local/lib/python3.8/dist-packages (from taichi) (1.21.6)\n",
            "Requirement already satisfied: astunparse in /usr/local/lib/python3.8/dist-packages (from taichi) (1.6.3)\n",
            "Requirement already satisfied: dill in /usr/local/lib/python3.8/dist-packages (from taichi) (0.3.6)\n",
            "Collecting rich\n",
            "  Downloading rich-13.1.0-py3-none-any.whl (238 kB)\n",
            "\u001b[2K     \u001b[90m━━━━━━━━━━━━━━━━━━━━━━━━━━━━━━━━━━━━━━\u001b[0m \u001b[32m238.4/238.4 KB\u001b[0m \u001b[31m27.5 MB/s\u001b[0m eta \u001b[36m0:00:00\u001b[0m\n",
            "\u001b[?25hRequirement already satisfied: six<2.0,>=1.6.1 in /usr/local/lib/python3.8/dist-packages (from astunparse->taichi) (1.15.0)\n",
            "Requirement already satisfied: wheel<1.0,>=0.23.0 in /usr/local/lib/python3.8/dist-packages (from astunparse->taichi) (0.38.4)\n",
            "Requirement already satisfied: pygments<3.0.0,>=2.6.0 in /usr/local/lib/python3.8/dist-packages (from rich->taichi) (2.6.1)\n",
            "Requirement already satisfied: typing-extensions<5.0,>=4.0.0 in /usr/local/lib/python3.8/dist-packages (from rich->taichi) (4.4.0)\n",
            "Collecting commonmark<0.10.0,>=0.9.0\n",
            "  Downloading commonmark-0.9.1-py2.py3-none-any.whl (51 kB)\n",
            "\u001b[2K     \u001b[90m━━━━━━━━━━━━━━━━━━━━━━━━━━━━━━━━━━━━━━━━\u001b[0m \u001b[32m51.1/51.1 KB\u001b[0m \u001b[31m6.5 MB/s\u001b[0m eta \u001b[36m0:00:00\u001b[0m\n",
            "\u001b[?25hInstalling collected packages: commonmark, rich, colorama, taichi\n",
            "Successfully installed colorama-0.4.6 commonmark-0.9.1 rich-13.1.0 taichi-1.4.0\n"
          ]
        }
      ]
    },
    {
      "cell_type": "code",
      "source": [
        "a = np.random.random((10000, 10000))"
      ],
      "metadata": {
        "id": "fEyBJvSFw6uG"
      },
      "execution_count": 4,
      "outputs": []
    },
    {
      "cell_type": "code",
      "source": [
        "def strange_conv(a: npt.NDArray[np.float64]) -> np.float64:\n",
        "    x = a.shape[0]\n",
        "    y = a.shape[1]\n",
        "\n",
        "    t = 1.\n",
        "    for y in range(y - 5):\n",
        "        for x in range(x - 3):\n",
        "            c = 1.5 * a[y+1, x+2] - a[y+5, x+3] * a[y, x] + 0.2 * a[y+4, x]\n",
        "            t = 0.2 * t + 0.8 * c\n",
        "\n",
        "    return t"
      ],
      "metadata": {
        "id": "SoAPFqjGeuHE"
      },
      "execution_count": 5,
      "outputs": []
    },
    {
      "cell_type": "code",
      "source": [
        "import taichi as ti\n",
        "ti.reset()\n",
        "ti.init(arch=ti.cuda)"
      ],
      "metadata": {
        "colab": {
          "base_uri": "https://localhost:8080/"
        },
        "id": "WOwZSjQijJKf",
        "outputId": "179282e2-e400-491d-d0d3-e2ed49598ecf"
      },
      "execution_count": 6,
      "outputs": [
        {
          "output_type": "stream",
          "name": "stdout",
          "text": [
            "[Taichi] version 1.4.0, llvm 15.0.4, commit fbe92fd8, linux, python 3.8.16\n",
            "[Taichi] Starting on arch=cuda\n"
          ]
        }
      ]
    },
    {
      "cell_type": "code",
      "source": [
        "#fixed \n",
        "@ti.kernel\n",
        "def strange_conv_taichi(a: ti.types.ndarray()) -> ti.types.float64:\n",
        "    x = a.shape[0]\n",
        "    y = a.shape[1]\n",
        "\n",
        "    t = ti.f64(1.)\n",
        "\n",
        "    x_stop = x - 3\n",
        "    ti.loop_config(serialize=True)\n",
        "    for y_i in range(y - 5):\n",
        "        for x_i in range(x_stop):\n",
        "            c = ti.f64(1.5) * ti.f64(a[y_i+1, x_i+2]) - ti.f64(a[y_i+5, x_i+3]) * ti.f64(a[y_i, x_i]) + ti.f64(0.2) * ti.f64(a[y_i+4, x_i])\n",
        "            t = ti.f64(0.2) * t + ti.f64(0.8) * c\n",
        "        x_stop -= 4\n",
        "\n",
        "    return t"
      ],
      "metadata": {
        "id": "lE-UzqU66upB"
      },
      "execution_count": 7,
      "outputs": []
    },
    {
      "cell_type": "code",
      "source": [
        "def compare_result(arr):\n",
        "    result_orig = strange_conv(arr)\n",
        "    result_taichi = strange_conv_taichi(arr)\n",
        "    return result_orig, result_taichi, result_orig == result_taichi\n"
      ],
      "metadata": {
        "id": "GyBXhVhcN7fN"
      },
      "execution_count": 8,
      "outputs": []
    },
    {
      "cell_type": "code",
      "source": [
        "compare_result(a)"
      ],
      "metadata": {
        "colab": {
          "base_uri": "https://localhost:8080/"
        },
        "id": "mCCADEz1OXwe",
        "outputId": "9c2d6dd2-c177-4641-cae7-afd4b72c99e1"
      },
      "execution_count": 11,
      "outputs": [
        {
          "output_type": "execute_result",
          "data": {
            "text/plain": [
              "(0.17600231102452576, 0.17600231102452576, True)"
            ]
          },
          "metadata": {},
          "execution_count": 11
        }
      ]
    },
    {
      "cell_type": "code",
      "source": [
        "%%timeit\n",
        "strange_conv(a)"
      ],
      "metadata": {
        "colab": {
          "base_uri": "https://localhost:8080/"
        },
        "id": "nM--A3m9ezGy",
        "outputId": "b5db112d-787f-4742-a6f2-22beb14d818a"
      },
      "execution_count": 12,
      "outputs": [
        {
          "output_type": "stream",
          "name": "stdout",
          "text": [
            "14.9 s ± 506 ms per loop (mean ± std. dev. of 7 runs, 1 loop each)\n"
          ]
        }
      ]
    },
    {
      "cell_type": "code",
      "source": [
        "%%timeit\n",
        "strange_conv_taichi(a)"
      ],
      "metadata": {
        "colab": {
          "base_uri": "https://localhost:8080/"
        },
        "id": "HCJ8fLlvMCsz",
        "outputId": "684e7656-84b4-49f2-b4c8-0114b7e169b5"
      },
      "execution_count": null,
      "outputs": [
        {
          "output_type": "stream",
          "name": "stdout",
          "text": [
            "1.82 s ± 39.3 ms per loop (mean ± std. dev. of 7 runs, 1 loop each)\n"
          ]
        }
      ]
    }
  ]
}