{
 "cells": [
  {
   "cell_type": "markdown",
   "source": [
    "# Задание 2.\n",
    "\n",
    "**NB. Все упражнения ниже нужно делать без использования циклов Python в явном (`while`, `for`) и неявном виде (list comprehension, `map`, `reduce` и пр)**\n",
    "\n",
    "Задания по манипуляциям с массивами чаще всего решаются в одно/два выражения. "
   ],
   "metadata": {}
  },
  {
   "cell_type": "code",
   "execution_count": 4,
   "source": [
    "%matplotlib inline\n",
    "\n",
    "import numpy as np\n",
    "import matplotlib.pyplot as plt\n",
    "import seaborn as sns\n",
    "sns.set_theme()\n",
    "\n",
    "A = np.random.randint(0, 100, size=(200, 50))\n",
    "A"
   ],
   "outputs": [
    {
     "output_type": "execute_result",
     "data": {
      "text/plain": [
       "array([[89, 88,  5, ..., 56, 75, 51],\n",
       "       [94, 17, 50, ..., 67, 68, 47],\n",
       "       [12, 27, 60, ..., 70, 90,  0],\n",
       "       ...,\n",
       "       [55, 11, 41, ..., 73, 55, 97],\n",
       "       [49, 43,  1, ..., 69, 15, 45],\n",
       "       [30, 35, 21, ..., 53, 87, 68]])"
      ]
     },
     "metadata": {},
     "execution_count": 4
    }
   ],
   "metadata": {}
  },
  {
   "cell_type": "markdown",
   "source": [
    "# Задание 2.1 (2 балла)\n",
    "\n",
    "Сгенерируйте новый массив, в котором столбцы массива `A` переставлены в случайном порядке"
   ],
   "metadata": {}
  },
  {
   "cell_type": "code",
   "execution_count": 5,
   "source": [
    "copy = A.copy().transpose()\n",
    "np.random.shuffle(copy)\n",
    "new_A = copy.transpose()\n",
    "new_A\n"
   ],
   "outputs": [
    {
     "output_type": "execute_result",
     "data": {
      "text/plain": [
       "array([[ 5, 76, 38, ..., 30, 53, 82],\n",
       "       [50, 30, 36, ...,  8, 68, 15],\n",
       "       [60, 84, 29, ..., 35, 51, 39],\n",
       "       ...,\n",
       "       [41, 16, 67, ..., 93, 12,  8],\n",
       "       [ 1,  1, 30, ..., 15, 98,  5],\n",
       "       [21, 44,  8, ..., 20, 21, 80]])"
      ]
     },
     "metadata": {},
     "execution_count": 5
    }
   ],
   "metadata": {}
  },
  {
   "cell_type": "markdown",
   "source": [
    "# Задание 2.2 (5 баллов)\n",
    "\n",
    "Сгенерируйте новый массив, который содержит только те строки массива `A`, в которых: \n",
    "- сумма элементов по четным столбцам (индексы $0, 2, \\ldots$) больше среднего значения (по всему массиву) суммы элементов по нечетным столбцам (индексы $1, 3, \\ldots$) "
   ],
   "metadata": {}
  },
  {
   "cell_type": "code",
   "execution_count": 7,
   "source": [
    "odd_sum = A[::, 1::2].sum(axis=1)\n",
    "odd_mean = odd_sum.mean()\n",
    "even_sum = A[::, ::2].sum(axis=1)\n",
    "masked = A[even_sum > odd_mean]\n",
    "masked"
   ],
   "outputs": [
    {
     "output_type": "execute_result",
     "data": {
      "text/plain": [
       "array([[89, 88,  5, ..., 56, 75, 51],\n",
       "       [94, 17, 50, ..., 67, 68, 47],\n",
       "       [12, 27, 60, ..., 70, 90,  0],\n",
       "       ...,\n",
       "       [83, 24, 50, ..., 98, 58, 63],\n",
       "       [50, 23, 92, ..., 83, 83, 41],\n",
       "       [30, 35, 21, ..., 53, 87, 68]])"
      ]
     },
     "metadata": {},
     "execution_count": 7
    }
   ],
   "metadata": {}
  },
  {
   "cell_type": "markdown",
   "source": [
    "# Задача 2.3 (3 балла)\n",
    "\n",
    "Найдите индекс строки массива `A`, в которой разница между максимальным и минимальным элементом максимальна"
   ],
   "metadata": {}
  },
  {
   "cell_type": "code",
   "execution_count": 9,
   "source": [
    "row_min = A.min(axis=1)\n",
    "row_max = A.max(axis=1)\n",
    "delta = row_max - row_min\n",
    "np.argmax(delta)"
   ],
   "outputs": [
    {
     "output_type": "execute_result",
     "data": {
      "text/plain": [
       "7"
      ]
     },
     "metadata": {},
     "execution_count": 9
    }
   ],
   "metadata": {}
  },
  {
   "cell_type": "markdown",
   "source": [
    "# Задание 2.4 (7 баллов)\n",
    "\n",
    "Сгенерируйте массив той же размерности, что и `A`, но в котором каждый элемент заменен на его порядковый номер (начиная с 1) в отсортированном по возрастанию массиве из элементов `A`\n",
    "\n",
    "Если `A` выглядит так:\n",
    "$$\n",
    "\\begin{pmatrix}\n",
    "12 & 14\\\\\n",
    "1 & 2\n",
    "\\end{pmatrix}\n",
    "$$\n",
    "то результат должен быть\n",
    "$$\n",
    "\\begin{pmatrix}\n",
    "3 & 4\\\\\n",
    "1 & 2\n",
    "\\end{pmatrix}\n",
    "$$\n",
    "\n",
    "*Tip: рассмотрите возможность неоднократного применения [argsort()](https://numpy.org/doc/stable/reference/generated/numpy.ndarray.argsort.html)*"
   ],
   "metadata": {}
  },
  {
   "cell_type": "code",
   "execution_count": 10,
   "source": [
    "shape = A.shape\n",
    "serial_number_A = A.reshape(-1).argsort().argsort().reshape(shape)\n",
    "serial_number_A"
   ],
   "outputs": [
    {
     "output_type": "execute_result",
     "data": {
      "text/plain": [
       "array([[8964, 8858,  571, ..., 5640, 7512, 5147],\n",
       "       [9418, 1710, 5067, ..., 6659, 6813, 4758],\n",
       "       [1185, 2763, 6041, ..., 7022, 8994,   32],\n",
       "       ...,\n",
       "       [5577, 1092, 4207, ..., 7236, 5569, 9787],\n",
       "       [4929, 4335,  181, ..., 6935, 1477, 4494],\n",
       "       [3051, 3571, 2113, ..., 5368, 8731, 6791]])"
      ]
     },
     "metadata": {},
     "execution_count": 10
    }
   ],
   "metadata": {}
  },
  {
   "cell_type": "markdown",
   "source": [
    "# Задание 2.5 (2 балла)\n",
    "\n",
    "Примените $\\min-\\max$ - нормализацию к строкам массива `A`. То есть нужно получить новый массивы, в каждой строке которого максимальный элементы равен $1$, минимальный - $0$. "
   ],
   "metadata": {}
  },
  {
   "cell_type": "code",
   "execution_count": 74,
   "source": [
    "normalized = (A - A.min(axis=1).reshape(-1, 1)) / (A.max(axis=1) - A.min(axis=1)).reshape(-1,1)\n",
    "normalized\n"
   ],
   "outputs": [
    {
     "output_type": "execute_result",
     "data": {
      "text/plain": [
       "array([[0.90816327, 0.89795918, 0.05102041, ..., 0.57142857, 0.76530612,\n",
       "        0.52040816],\n",
       "       [0.9893617 , 0.17021277, 0.5212766 , ..., 0.70212766, 0.71276596,\n",
       "        0.4893617 ],\n",
       "       [0.12244898, 0.2755102 , 0.6122449 , ..., 0.71428571, 0.91836735,\n",
       "        0.        ],\n",
       "       ...,\n",
       "       [0.55789474, 0.09473684, 0.41052632, ..., 0.74736842, 0.55789474,\n",
       "        1.        ],\n",
       "       [0.5       , 0.43877551, 0.01020408, ..., 0.70408163, 0.15306122,\n",
       "        0.45918367],\n",
       "       [0.3030303 , 0.35353535, 0.21212121, ..., 0.53535354, 0.87878788,\n",
       "        0.68686869]])"
      ]
     },
     "metadata": {},
     "execution_count": 74
    }
   ],
   "metadata": {}
  },
  {
   "cell_type": "code",
   "execution_count": 80,
   "source": [
    "np.max(normalized[0])"
   ],
   "outputs": [
    {
     "output_type": "execute_result",
     "data": {
      "text/plain": [
       "1.0"
      ]
     },
     "metadata": {},
     "execution_count": 80
    }
   ],
   "metadata": {}
  },
  {
   "cell_type": "code",
   "execution_count": 77,
   "source": [
    "np.min(normalized[0])"
   ],
   "outputs": [
    {
     "output_type": "execute_result",
     "data": {
      "text/plain": [
       "0.0"
      ]
     },
     "metadata": {},
     "execution_count": 77
    }
   ],
   "metadata": {}
  },
  {
   "cell_type": "markdown",
   "source": [
    "# Задание 2.6 (2 балла)\n",
    "\n",
    "Сгенерируйте новый трехмерный массив, размерности $10 \\times 200 \\times 50$. Подмассивы по нулевой оси должны состоять из элементов `A`, умноженных на $1 - 10$ соответственно"
   ],
   "metadata": {}
  },
  {
   "cell_type": "code",
   "execution_count": 12,
   "source": [
    "shape = A.shape\n",
    "arr = A.reshape(1, shape[0], shape[1])\n",
    "second_operands = np.array(range(1,11))\n",
    "tensor = second_operands.reshape(10, 1, 1) * arr\n",
    "tensor"
   ],
   "outputs": [
    {
     "output_type": "execute_result",
     "data": {
      "text/plain": [
       "array([[[ 89,  88,   5, ...,  56,  75,  51],\n",
       "        [ 94,  17,  50, ...,  67,  68,  47],\n",
       "        [ 12,  27,  60, ...,  70,  90,   0],\n",
       "        ...,\n",
       "        [ 55,  11,  41, ...,  73,  55,  97],\n",
       "        [ 49,  43,   1, ...,  69,  15,  45],\n",
       "        [ 30,  35,  21, ...,  53,  87,  68]],\n",
       "\n",
       "       [[178, 176,  10, ..., 112, 150, 102],\n",
       "        [188,  34, 100, ..., 134, 136,  94],\n",
       "        [ 24,  54, 120, ..., 140, 180,   0],\n",
       "        ...,\n",
       "        [110,  22,  82, ..., 146, 110, 194],\n",
       "        [ 98,  86,   2, ..., 138,  30,  90],\n",
       "        [ 60,  70,  42, ..., 106, 174, 136]],\n",
       "\n",
       "       [[267, 264,  15, ..., 168, 225, 153],\n",
       "        [282,  51, 150, ..., 201, 204, 141],\n",
       "        [ 36,  81, 180, ..., 210, 270,   0],\n",
       "        ...,\n",
       "        [165,  33, 123, ..., 219, 165, 291],\n",
       "        [147, 129,   3, ..., 207,  45, 135],\n",
       "        [ 90, 105,  63, ..., 159, 261, 204]],\n",
       "\n",
       "       ...,\n",
       "\n",
       "       [[712, 704,  40, ..., 448, 600, 408],\n",
       "        [752, 136, 400, ..., 536, 544, 376],\n",
       "        [ 96, 216, 480, ..., 560, 720,   0],\n",
       "        ...,\n",
       "        [440,  88, 328, ..., 584, 440, 776],\n",
       "        [392, 344,   8, ..., 552, 120, 360],\n",
       "        [240, 280, 168, ..., 424, 696, 544]],\n",
       "\n",
       "       [[801, 792,  45, ..., 504, 675, 459],\n",
       "        [846, 153, 450, ..., 603, 612, 423],\n",
       "        [108, 243, 540, ..., 630, 810,   0],\n",
       "        ...,\n",
       "        [495,  99, 369, ..., 657, 495, 873],\n",
       "        [441, 387,   9, ..., 621, 135, 405],\n",
       "        [270, 315, 189, ..., 477, 783, 612]],\n",
       "\n",
       "       [[890, 880,  50, ..., 560, 750, 510],\n",
       "        [940, 170, 500, ..., 670, 680, 470],\n",
       "        [120, 270, 600, ..., 700, 900,   0],\n",
       "        ...,\n",
       "        [550, 110, 410, ..., 730, 550, 970],\n",
       "        [490, 430,  10, ..., 690, 150, 450],\n",
       "        [300, 350, 210, ..., 530, 870, 680]]])"
      ]
     },
     "metadata": {},
     "execution_count": 12
    }
   ],
   "metadata": {}
  },
  {
   "cell_type": "markdown",
   "source": [
    "# Задание 2.7 (2 балла)\n",
    "\n",
    "Создайте новый массив, такой же размерности, как и `A`, в котором сначала сгруппированы четные столбцы `A`, потом  нечетные. Используйте [np.concat()](https://numpy.org/doc/stable/reference/generated/numpy.concatenate.html) "
   ],
   "metadata": {}
  },
  {
   "cell_type": "code",
   "execution_count": 13,
   "source": [
    "odd_columns = A[:, 1::2]\n",
    "even_columns = A[:, ::2]\n",
    "concated = np.concatenate([even_columns, odd_columns], axis=1)\n",
    "concated"
   ],
   "outputs": [
    {
     "output_type": "execute_result",
     "data": {
      "text/plain": [
       "array([[89,  5, 80, ..., 41, 56, 51],\n",
       "       [94, 50, 73, ..., 88, 67, 47],\n",
       "       [12, 60, 80, ..., 26, 70,  0],\n",
       "       ...,\n",
       "       [55, 41, 28, ...,  6, 73, 97],\n",
       "       [49,  1,  7, ..., 65, 69, 45],\n",
       "       [30, 21, 38, ..., 19, 53, 68]])"
      ]
     },
     "metadata": {},
     "execution_count": 13
    }
   ],
   "metadata": {}
  },
  {
   "cell_type": "markdown",
   "source": [
    "# Задание 2.8 (2 балла)\n",
    "\n",
    "Посчитайте количество строк массива `A`, в который все элементы больше 5. Используйте [np.all()](https://numpy.org/doc/stable/reference/generated/numpy.all.html) "
   ],
   "metadata": {}
  },
  {
   "cell_type": "code",
   "execution_count": 14,
   "source": [
    "more_than_5 = np.all(A > 5, axis=1).sum()\n",
    "more_than_5"
   ],
   "outputs": [
    {
     "output_type": "execute_result",
     "data": {
      "text/plain": [
       "11"
      ]
     },
     "metadata": {},
     "execution_count": 14
    }
   ],
   "metadata": {}
  },
  {
   "cell_type": "markdown",
   "source": [
    "# Задание 2.9 (2 балла)\n",
    "\n",
    "Поделите массив `A` горизонтально на 10 частей и создайте новый массив размерности $20 \\times 50$, который является средним этих частей. Используйте [np.split()](https://numpy.org/doc/stable/reference/generated/numpy.split.html)"
   ],
   "metadata": {}
  },
  {
   "cell_type": "code",
   "execution_count": 15,
   "source": [
    "arr = np.split(A, 10)\n",
    "arr = np.array(arr)\n",
    "arr = arr.mean(axis=0)\n",
    "print(arr.shape)\n",
    "arr"
   ],
   "outputs": [
    {
     "output_type": "stream",
     "name": "stdout",
     "text": [
      "(20, 50)\n"
     ]
    },
    {
     "output_type": "execute_result",
     "data": {
      "text/plain": [
       "array([[72.2, 39.8, 53. , 30.9, 45.8, 65.7, 65. , 40.9, 25.3, 50.6, 39.1,\n",
       "        40.1, 46.2, 52.1, 54.7, 55.3, 29.8, 57. , 58. , 56.6, 69. , 51.9,\n",
       "        45.3, 45.6, 69. , 60.1, 57.1, 45.8, 44. , 38.7, 40.9, 65.1, 61.3,\n",
       "        36.1, 48.1, 52.2, 57.9, 42.2, 39.7, 48. , 31.4, 39.2, 57.3, 46.9,\n",
       "        60.9, 46.4, 43.8, 28.5, 44.9, 51.2],\n",
       "       [58.2, 40.5, 47.9, 45.8, 69.8, 40.8, 44.6, 38.3, 36.6, 42.8, 65.3,\n",
       "        46.3, 51.1, 56.8, 60.5, 53.2, 45.9, 61.9, 38.4, 64.4, 49.7, 61.4,\n",
       "        55.4, 60.6, 39.8, 47.5, 40.6, 34.6, 49.6, 45.9, 48.9, 40.2, 43.6,\n",
       "        31. , 47.1, 56.8, 44.2, 42.5, 40.9, 55.7, 50.5, 40. , 39.9, 46.7,\n",
       "        55.4, 50.2, 48.8, 65.4, 48. , 56.2],\n",
       "       [49.5, 48.5, 53. , 39.3, 54.4, 46.2, 41.4, 42. , 46.7, 51.6, 34.9,\n",
       "        48.5, 42.8, 51. , 31.7, 45.6, 55.6, 62.7, 69. , 48.5, 50. , 65.6,\n",
       "        38.9, 59.9, 58.6, 67.9, 59.6, 49.4, 40.3, 38. , 40.1, 36.9, 28.1,\n",
       "        51.2, 55.6, 52.1, 57. , 58.6, 47.1, 43.3, 50. , 33.3, 45. , 50.6,\n",
       "        59.8, 40.6, 64.4, 71.1, 65.6, 45.9],\n",
       "       [34.7, 35.6, 59.2, 49. , 51.6, 46.8, 51.4, 49.3, 38.5, 52.1, 68.2,\n",
       "        65.9, 37.7, 61.3, 45.7, 67.3, 46.7, 52.6, 44.4, 49. , 42.5, 55.3,\n",
       "        50.8, 52.6, 56.4, 37.5, 61.4, 47.6, 49.2, 57.5, 38.2, 59.2, 47.7,\n",
       "        67. , 62.2, 41.4, 41.8, 57. , 27.7, 46.8, 68.5, 51.8, 63.3, 56.9,\n",
       "        51.5, 61.2, 42.3, 32.9, 57. , 71.9],\n",
       "       [53.2, 43.5, 45.8, 43.2, 63.6, 62.2, 61.4, 52.2, 44. , 38.9, 54.1,\n",
       "        51.9, 55.7, 61.7, 60. , 48.2, 49.3, 51.4, 51.8, 39.6, 57.7, 69.5,\n",
       "        36.4, 50.9, 51.7, 37.6, 41.5, 54.3, 49.5, 50.9, 54.2, 60.6, 48. ,\n",
       "        54.7, 64.5, 38.3, 36. , 60.4, 52.6, 44. , 43.7, 54.1, 64. , 57.4,\n",
       "        56.9, 50.9, 63.3, 39.5, 33.8, 49.1],\n",
       "       [74.9, 46.8, 29.7, 57. , 47.6, 59. , 47.3, 61.8, 64.5, 43.6, 41.3,\n",
       "        58.9, 35.5, 37.2, 57. , 48.6, 49.5, 36.8, 48.2, 60.1, 57.8, 32.5,\n",
       "        61. , 43.6, 42.2, 61.1, 48.2, 54.3, 47.9, 41.4, 56.6, 46.1, 54.8,\n",
       "        56.8, 58.6, 40.9, 30.2, 59.9, 62.8, 63.3, 45.3, 62.1, 47.2, 49.1,\n",
       "        33.8, 44.7, 52.1, 63.6, 48.9, 43.3],\n",
       "       [45.7, 44.9, 40.2, 63.2, 35. , 44.3, 42.1, 52.1, 54.5, 61.6, 48.9,\n",
       "        48.8, 64.2, 50.9, 44.2, 37.2, 61.3, 61.7, 48.3, 38. , 63.2, 48.2,\n",
       "        50.6, 59.3, 48.5, 46. , 50.9, 50.3, 40.3, 43.7, 48.4, 50.6, 48.5,\n",
       "        51.5, 36. , 32.6, 35.9, 43.9, 42.1, 36.7, 45.9, 41.6, 49.5, 53.8,\n",
       "        61.5, 54.8, 39.2, 52.6, 57.6, 56.9],\n",
       "       [50.9, 48.4, 40.4, 47.1, 54. , 47.7, 38.6, 39.6, 56.2, 42.6, 61.7,\n",
       "        51.7, 37.9, 64.3, 44.3, 51.4, 44.8, 55.9, 53.6, 56.9, 59.5, 53.7,\n",
       "        67.5, 51.3, 67.8, 55.5, 50.5, 35.5, 57.9, 52.6, 43.1, 57.9, 52.9,\n",
       "        71.5, 49.6, 44.1, 37.7, 37.6, 55.5, 35.9, 51.9, 32.8, 62.9, 53.1,\n",
       "        52.9, 42.8, 41.2, 50. , 54.1, 46.6],\n",
       "       [55.8, 45. , 52.9, 54.6, 33.4, 58.3, 59.6, 60.1, 46.5, 40.3, 60.7,\n",
       "        45.9, 50. , 56.9, 57.4, 42.8, 55.3, 51.2, 70.7, 62.9, 66.5, 45.9,\n",
       "        47.1, 47.9, 64. , 45.6, 49.2, 67.2, 40.6, 51.3, 49. , 46.4, 50. ,\n",
       "        61.6, 51.6, 36.6, 46.1, 52.6, 32.6, 67.3, 57.3, 52.4, 42.4, 49.2,\n",
       "        49.5, 52.5, 43.4, 47. , 47.3, 36.8],\n",
       "       [45.1, 45.9, 55.5, 54.5, 51.7, 35. , 62.7, 37.8, 45. , 49.1, 40.8,\n",
       "        54.3, 50.6, 52.5, 40.1, 42.8, 63.5, 53.9, 41.4, 45.4, 49.3, 50.8,\n",
       "        67.7, 30.2, 40.4, 39.4, 54.8, 43.7, 61.4, 46.6, 41.3, 46. , 40.6,\n",
       "        56.6, 60.8, 26.9, 55.5, 67.8, 71.4, 51. , 43.3, 43.9, 52.9, 57. ,\n",
       "        43.3, 52.9, 23.3, 51.5, 43.4, 33.8],\n",
       "       [39.4, 42.4, 50.7, 56. , 40.6, 45.3, 48.1, 41.6, 46.2, 42.2, 43. ,\n",
       "        53. , 56.6, 57.1, 48.9, 35.6, 56.6, 55.6, 40.3, 54.6, 48. , 53.4,\n",
       "        55.9, 46.9, 69.5, 62.6, 51.5, 56.4, 57.8, 47. , 59.6, 42.5, 59. ,\n",
       "        53. , 46.5, 48.1, 53. , 47.8, 45.2, 41.2, 51.7, 46.9, 42.4, 52.7,\n",
       "        35.9, 52.7, 62.6, 46.8, 48.3, 67. ],\n",
       "       [50.2, 42.3, 45. , 45.6, 50.3, 41.5, 49.8, 36.4, 47.9, 47.4, 45.8,\n",
       "        44.4, 52.2, 59.4, 38.8, 47.9, 55.4, 41.9, 41.4, 32.3, 47.5, 50.6,\n",
       "        71.1, 53.7, 52.8, 61.1, 42.9, 56.6, 53.1, 45.7, 44.9, 45.8, 56.2,\n",
       "        64.2, 49. , 78. , 55.4, 42.1, 55.4, 49.1, 52.5, 56.9, 61.2, 44.4,\n",
       "        36.6, 37.6, 53.3, 49.9, 41.7, 51.8],\n",
       "       [67. , 39.8, 43.2, 48.9, 51.3, 35.9, 45. , 56. , 51.4, 33.6, 46.4,\n",
       "        43.5, 40.5, 50. , 57.3, 52.5, 53.5, 42.6, 56.8, 41.2, 59.1, 73.2,\n",
       "        53.7, 67.7, 67. , 39.9, 49.9, 55.1, 54.3, 61.7, 62.8, 38.5, 60. ,\n",
       "        43.8, 43.5, 61.5, 64.7, 47.5, 58.2, 44.4, 44. , 50.1, 34.4, 64. ,\n",
       "        51.2, 36.6, 68.3, 42.6, 48.8, 53.3],\n",
       "       [38.1, 41.8, 42.4, 55.6, 33.1, 58.8, 56.6, 43.3, 38.7, 35.5, 54.6,\n",
       "        55.1, 56.3, 38.1, 37.5, 57.3, 44. , 53. , 59.8, 30. , 48.4, 43.8,\n",
       "        41.1, 39.2, 60.5, 42.1, 45.2, 44. , 39.2, 66.5, 57.7, 47.7, 49.2,\n",
       "        48.1, 40.6, 69.6, 44.3, 45.1, 47.7, 50.7, 45.7, 57.2, 40.2, 49. ,\n",
       "        51.8, 42.5, 42.9, 38.9, 50.5, 44.6],\n",
       "       [46.6, 40.8, 39.8, 60.1, 45.3, 55.2, 52.2, 65.3, 56.6, 60.1, 48.9,\n",
       "        51.1, 52.3, 61.9, 34.9, 68.2, 49. , 62.4, 53.3, 34.9, 43.9, 51.7,\n",
       "        42.5, 49.8, 53.5, 51.5, 40. , 62.3, 45.8, 41.4, 42.6, 65. , 35.1,\n",
       "        48.8, 50.2, 46.5, 31.9, 47.4, 57.1, 46.5, 55.6, 50.2, 49.2, 73.7,\n",
       "        42.3, 58.7, 50.2, 34.7, 54.3, 51.3],\n",
       "       [46.3, 56. , 46.3, 58.1, 35.3, 47.4, 39.5, 43.6, 61.7, 57.8, 51.8,\n",
       "        57.2, 55.8, 37.1, 70.2, 45.6, 51.5, 55.1, 40.6, 44.3, 39. , 38.1,\n",
       "        51.9, 40.9, 59.9, 42.9, 53.3, 43.8, 50. , 51.5, 39.7, 64.6, 46.7,\n",
       "        58. , 49.7, 51.2, 54.8, 62.9, 46.4, 51.8, 58.8, 48.8, 43.3, 44.7,\n",
       "        49. , 54. , 53.3, 57.6, 49.2, 43.8],\n",
       "       [41.8, 54.5, 53.2, 43.8, 49.8, 46.6, 47. , 46.4, 61.4, 33.6, 49.5,\n",
       "        61.7, 52.2, 23.9, 32.5, 58.7, 46.7, 54.4, 49.6, 41.3, 55.1, 52. ,\n",
       "        58.2, 40.5, 51.1, 53.5, 59. , 55.4, 56.7, 55.2, 50.3, 59.5, 43.9,\n",
       "        50.9, 40.3, 46.5, 40.2, 56. , 48.1, 46.6, 42.4, 38.4, 59.3, 63.4,\n",
       "        50.8, 54.1, 56.7, 48.5, 55.5, 45.2],\n",
       "       [44.3, 48.6, 61.4, 44.8, 59.6, 45.3, 41.4, 54.1, 45.3, 52.7, 45.4,\n",
       "        53.9, 44.8, 46.6, 56.5, 56.3, 50.6, 66.1, 43.7, 43.5, 39.8, 41.8,\n",
       "        63.9, 29.7, 49.4, 44.9, 41.9, 35.4, 33.8, 70.6, 62.2, 39.8, 60.2,\n",
       "        56.9, 48.9, 42.6, 61.7, 41.9, 42.4, 55.3, 48. , 30.9, 56.6, 57.3,\n",
       "        47.1, 28.4, 38.8, 50.6, 43.3, 52.1],\n",
       "       [49.3, 49.3, 41.3, 54.8, 53.3, 27.5, 48.2, 41.9, 53.4, 45.5, 52.4,\n",
       "        49.9, 42.2, 44.9, 48.9, 43.8, 57.3, 35. , 40. , 49.9, 42.1, 54.7,\n",
       "        59.7, 40. , 63.3, 40.8, 49.9, 50.6, 49.6, 48.3, 42.3, 46.7, 63.9,\n",
       "        37.5, 42.4, 40.1, 57.2, 49.3, 70.1, 55.8, 35.7, 51.1, 51.4, 51.8,\n",
       "        51.9, 53.8, 67.5, 53. , 52.2, 40.7],\n",
       "       [48.6, 57.1, 42.1, 35.4, 42.2, 42.4, 55.7, 37.1, 34.5, 43.1, 62.6,\n",
       "        47.8, 52.3, 54.5, 56.4, 40.4, 50. , 59.4, 33.4, 56.9, 54. , 61. ,\n",
       "        57.8, 40. , 57.9, 50.9, 65.8, 37.5, 53.8, 45.5, 42.9, 59.2, 33.4,\n",
       "        32.3, 51.9, 54.8, 52.9, 49.2, 48. , 62.6, 45.1, 56.2, 39.9, 54.5,\n",
       "        65.2, 38.5, 43.3, 42.6, 49.6, 58.5]])"
      ]
     },
     "metadata": {},
     "execution_count": 15
    }
   ],
   "metadata": {}
  },
  {
   "cell_type": "markdown",
   "source": [
    "# Задание 2.10 (4 балла)\n",
    "\n",
    "\"Разверните\" массив `A` в одномерный массив. Оставьте в нём только уникальные элементы в том же порядке, в котором они встречаются в массиве. Используйте [np.unique()](https://numpy.org/doc/stable/reference/generated/numpy.unique.html)"
   ],
   "metadata": {}
  },
  {
   "cell_type": "code",
   "execution_count": 16,
   "source": [
    "arr = A.reshape(-1) \n",
    "unique_numbers, idx = np.unique(arr, return_index=True)\n",
    "one_dim_arr = unique_numbers[idx.argsort()]\n",
    "print(one_dim_arr.shape)\n",
    "one_dim_arr"
   ],
   "outputs": [
    {
     "output_type": "stream",
     "name": "stdout",
     "text": [
      "(100,)\n"
     ]
    },
    {
     "output_type": "execute_result",
     "data": {
      "text/plain": [
       "array([89, 88,  5, 30, 80, 98, 86, 47, 31, 65, 43, 38, 95, 82,  1, 91, 36,\n",
       "       58, 75, 16, 76, 27, 51, 97, 85, 66, 22, 39,  0, 45, 48, 90, 34, 63,\n",
       "       53, 44, 23, 21, 19,  9, 41, 49, 56, 94, 17, 50,  8, 73, 25, 79, 26,\n",
       "       78, 32, 61, 28, 81,  3, 52, 71, 87, 77, 33, 46, 67, 68, 15, 59, 12,\n",
       "       60, 35, 96, 62, 29, 83, 54, 84, 37, 40, 69, 70, 55, 20,  4,  2, 74,\n",
       "       64, 11, 10, 57, 72, 99, 18, 93, 24, 42, 14,  6, 92,  7, 13])"
      ]
     },
     "metadata": {},
     "execution_count": 16
    }
   ],
   "metadata": {}
  },
  {
   "cell_type": "markdown",
   "source": [
    "# Задание 2.11 (3 балла)\n",
    "\n",
    "Создайте одномерный массив размерности $200$, в котором каждый элемент - евклидово расстояние между соответствующей строкой `A` и \"средней\" строкой `A`"
   ],
   "metadata": {}
  },
  {
   "cell_type": "code",
   "execution_count": 17,
   "source": [
    "mean = np.mean(A, axis=0)\n",
    "arr = np.linalg.norm(A - mean, axis=1)\n",
    "print(arr.shape)\n",
    "arr"
   ],
   "outputs": [
    {
     "output_type": "stream",
     "name": "stdout",
     "text": [
      "(200,)\n"
     ]
    },
    {
     "output_type": "execute_result",
     "data": {
      "text/plain": [
       "array([197.47608178, 188.16722051, 188.17742392, 201.25641077,\n",
       "       198.67841573, 198.00339107, 220.27544774, 213.10017099,\n",
       "       174.67811218, 206.87059452, 185.2430913 , 192.56030971,\n",
       "       185.23626231, 217.61448223, 201.83285876, 202.08672117,\n",
       "       201.05042371, 205.56729525, 184.87196346, 187.32990385,\n",
       "       186.0490604 , 201.83640126, 198.87868884, 204.3365187 ,\n",
       "       209.47938532, 216.17061057, 215.22333255, 221.58527224,\n",
       "       195.65475429, 207.61662476, 198.28782836, 179.80879532,\n",
       "       184.51740534, 193.81184916, 224.18468475, 205.40898928,\n",
       "       190.49357699, 215.52051613, 210.37930715, 231.70300575,\n",
       "       194.01328015, 199.73595789, 190.48087273, 203.03884573,\n",
       "       214.0771657 , 206.23545494, 213.79256974, 205.20346702,\n",
       "       198.62377218, 222.67465701, 209.82488621, 205.26831922,\n",
       "       213.99647865, 190.95921783, 198.46982863, 217.13775092,\n",
       "       199.0995803 , 184.8841066 , 216.95493282, 190.66841079,\n",
       "       222.78600242, 195.81665628, 219.33294982, 206.84932409,\n",
       "       197.29210039, 210.99595464, 202.05697928, 195.44166105,\n",
       "       191.60893214, 186.94574848, 197.25788419, 201.13312227,\n",
       "       190.27415188, 182.7134447 , 215.85044099, 228.98511496,\n",
       "       208.1577836 , 213.80384205, 204.03588624, 207.77007214,\n",
       "       186.33789973, 202.81349283, 204.05568572, 195.81660521,\n",
       "       197.82667382, 215.25369422, 205.91780611, 191.02141994,\n",
       "       203.45960994, 180.83830588, 203.73942396, 206.42042747,\n",
       "       211.35922709, 202.82675582, 208.37637312, 181.98171028,\n",
       "       194.70252406, 187.40000767, 211.49891932, 186.29125818,\n",
       "       205.41911516, 196.52384811, 222.02459971, 201.92801409,\n",
       "       215.5477276 , 215.10788659, 193.06574754, 205.34376756,\n",
       "       195.01739121, 204.96297928, 205.41310298, 211.47603381,\n",
       "       208.53887617, 179.93241196, 193.62327565, 196.14518316,\n",
       "       182.0459911 , 214.68044362, 222.39339665, 198.44352566,\n",
       "       189.40721442, 206.20483233, 209.6981232 , 218.08299538,\n",
       "       201.98664034, 193.49737175, 207.19283983, 193.35892241,\n",
       "       188.76284824, 219.39159709, 202.15353787, 203.30391751,\n",
       "       200.16738714, 187.04075191, 236.95348251, 186.99877774,\n",
       "       198.65304648, 207.0431184 , 208.03683057, 225.50659164,\n",
       "       202.76906291, 204.64623836, 225.9973736 , 221.24353748,\n",
       "       205.65695436, 207.75801519, 222.06594263, 202.3128589 ,\n",
       "       221.33299093, 194.04626478, 206.75665134, 202.26550095,\n",
       "       213.09423473, 200.98709629, 223.15425803, 199.24061553,\n",
       "       226.58771563, 200.68819815, 213.06739045, 180.71519824,\n",
       "       207.47210144, 202.90937109, 205.63687139, 184.63275136,\n",
       "       201.7344613 , 208.60158886, 230.70785178, 178.54846086,\n",
       "       189.25652664, 189.70488364, 201.53484283, 220.55764071,\n",
       "       206.54438476, 211.64147248, 179.80103691, 217.53926743,\n",
       "       203.35836072, 219.75229891, 182.25672244, 205.26753975,\n",
       "       203.51410977, 179.1868937 , 195.6586642 , 186.54643624,\n",
       "       184.99203463, 207.27303943, 201.70593168, 218.84093053,\n",
       "       207.03980988, 204.21971716, 221.40147442, 209.48902805,\n",
       "       218.03456807, 216.57978409, 210.546605  , 228.70545003,\n",
       "       195.54498939, 193.3008093 , 220.55918225, 217.27292255])"
      ]
     },
     "metadata": {},
     "execution_count": 17
    }
   ],
   "metadata": {}
  },
  {
   "cell_type": "markdown",
   "source": [
    "# Задание 2.12 (2 балла)\n",
    "\n",
    "Создайте новый массив, который состоит из элементов `A`, измененных по следующим правилам:\n",
    "- если элемент меньше $50$, то он умножается на $2$\n",
    "- в противном случае он умножается на $3$\n",
    "\n",
    "Используйте [np.where()](https://numpy.org/doc/stable/reference/generated/numpy.where.html)"
   ],
   "metadata": {}
  },
  {
   "cell_type": "code",
   "execution_count": 18,
   "source": [
    "arr = np.where(A < 50, A, A*3)\n",
    "arr = np.where(A >= 50, arr, arr*2)\n",
    "arr"
   ],
   "outputs": [
    {
     "output_type": "execute_result",
     "data": {
      "text/plain": [
       "array([[267, 264,  10, ..., 168, 225, 153],\n",
       "       [282,  34, 150, ..., 201, 204,  94],\n",
       "       [ 24,  54, 180, ..., 210, 270,   0],\n",
       "       ...,\n",
       "       [165,  22,  82, ..., 219, 165, 291],\n",
       "       [ 98,  86,   2, ..., 207,  30,  90],\n",
       "       [ 60,  70,  42, ..., 159, 261, 204]])"
      ]
     },
     "metadata": {},
     "execution_count": 18
    }
   ],
   "metadata": {}
  },
  {
   "cell_type": "markdown",
   "source": [
    "# Задание 2.13 (7 баллов)\n",
    "\n",
    "Разверните массив `A` в одномерный массив. Создайте три новых массива, подсчитав скользящие средние по окнам $3$, $5$, $10$. Найдите сумму этих массивов, выровнив из размерности нулями справа\n",
    "\n",
    "*Tip: реализуйте функцию, которая считает скользящее среднее. Используйте [np.cumsum()](https://numpy.org/doc/stable/reference/generated/numpy.cumsum.html) или [np.convolve()](https://numpy.org/doc/stable/reference/generated/numpy.convolve.html)*"
   ],
   "metadata": {}
  },
  {
   "cell_type": "code",
   "execution_count": 20,
   "source": [
    "def moving_average(arr, window = 3):\n",
    "    ret = np.cumsum(arr, dtype=float)\n",
    "    ret[window:] = ret[window:] - ret[:-window]\n",
    "    return ret[window - 1:] / window\n",
    "\n",
    "ma_3 = moving_average(A.reshape(-1), 3)\n",
    "ma_5 = moving_average(A.reshape(-1), 5)\n",
    "ma_10 = moving_average(A.reshape(-1), 10)\n",
    "\n",
    "ma_5 = np.concatenate((ma_5, np.zeros(2)))\n",
    "ma_10 = np.concatenate((ma_10, np.zeros(7)))\n",
    "ma_3 + ma_5 + ma_10\n"
   ],
   "outputs": [
    {
     "output_type": "execute_result",
     "data": {
      "text/plain": [
       "array([180.96666667, 158.5       , 150.43333333, ...,  79.        ,\n",
       "        52.66666667,  69.33333333])"
      ]
     },
     "metadata": {},
     "execution_count": 20
    }
   ],
   "metadata": {}
  },
  {
   "cell_type": "markdown",
   "source": [
    "# Задание 2.14 (8 баллов)\n",
    "\n",
    "Постройте график функции $$f(x) = (5  \\sin(2x) - \\cos^2(x) - 1 + |x^3| - x^2) / (x^2 + 1)$$  \n",
    "\n",
    "и производной от этой функции.  Найдите минимум с помощью `scipy` и обозначьте его на графике. На этой же оси постройте графики скользящего среднего этой функции с окном $1$, $2$, $5$."
   ],
   "metadata": {}
  },
  {
   "cell_type": "code",
   "execution_count": 97,
   "source": [
    "from scipy.misc import derivative\n",
    "from scipy.optimize import minimize\n",
    "\n",
    "from matplotlib.pyplot import figure\n",
    "figure(figsize=(8, 6), dpi=80)\n",
    "NUM_OF_POINTS = 50\n",
    "\n",
    "def f(x):\n",
    "    return (5*np.sin(2*x) - np.cos(x)**2 - 1 + np.abs(x**3) - x**2) / (x**2 + 1)\n",
    "\n",
    "minimize_info =  minimize(f, x0=-1)\n",
    "x_min, y_min = minimize_info['x'][0], minimize_info['fun']\n",
    "\n",
    "x = np.linspace(-10, 10, NUM_OF_POINTS)\n",
    "y = f(x)\n",
    "plt.plot(x, y, color='green', label='Function')\n",
    "plt.plot(x, derivative(f,x), color='red', label='Derivative')\n",
    "plt.plot(x_min, y_min, color=\"red\", marker=\"x\", label=\"Min dot\")\n",
    "\n",
    "plt.plot(x[:-1], moving_average(y, 2), color=\"black\", label='MA 2')\n",
    "plt.plot(x[:-4], moving_average(y, 5), color=\"orange\", label='MA 5')\n",
    "\n",
    "\n",
    "plt.legend(loc='upper left')\n",
    "plt.grid(True)"
   ],
   "outputs": [
    {
     "output_type": "display_data",
     "data": {
      "image/png": "[encoded data removed]",
      "text/plain": [
       "<Figure size 640x480 with 1 Axes>"
      ]
     },
     "metadata": {}
    }
   ],
   "metadata": {}
  },
  {
   "cell_type": "markdown",
   "source": [
    "# Задание 2.15 (10 баллов)\n",
    "\n",
    "Есть следующий алгоритм семплинирования, на вход функции подается вектор из целых положительных чисел и число семплов."
   ],
   "metadata": {}
  },
  {
   "cell_type": "code",
   "execution_count": 29,
   "source": [
    "from typing import List \n",
    "\n",
    "def sample(x: List[int], c: int) -> List[int]:\n",
    "    assert len(x) > 0\n",
    "    \n",
    "    s = np.sum(x)\n",
    "    res = []\n",
    "    for _ in range(c):\n",
    "        val = s * np.random.random()\n",
    "        cur, idx = 0, 0        \n",
    "        while cur + x[idx] <= val:\n",
    "            cur += x[idx]\n",
    "            idx += 1\n",
    "            \n",
    "        res.append(idx)\n",
    "    return res\n",
    "\n",
    "            \n",
    "sample([50, 3, 1, 7, 20], 5)   "
   ],
   "outputs": [
    {
     "output_type": "execute_result",
     "data": {
      "text/plain": [
       "[3, 4, 0, 0, 0]"
      ]
     },
     "metadata": {},
     "execution_count": 29
    }
   ],
   "metadata": {}
  },
  {
   "cell_type": "markdown",
   "source": [
    "Реализуйте данный алгоритм более оптимальным способом на массивах `numpy`, без использования циклов. Проверьте корректность и идентичность алгоритмов семплирования с помощью статистических тестов."
   ],
   "metadata": {}
  },
  {
   "cell_type": "code",
   "execution_count": 30,
   "source": [
    "import numpy.typing as npt"
   ],
   "outputs": [],
   "metadata": {}
  },
  {
   "cell_type": "code",
   "execution_count": 81,
   "source": [
    "def np_sample(x: npt.NDArray[np.int64], c: int) -> npt.NDArray[np.int64]:\n",
    "    \"\"\"Numpy-based sampling (without loops).\n",
    "\n",
    "    Args:\n",
    "        x (npt.NDArray[int]): vector of integers\n",
    "        c (int): desired number of samples\n",
    "\n",
    "    Returns:\n",
    "        npt.NDArray[int]: selected indexes from input \n",
    "    \"\"\"\n",
    "    assert len(x) > 0, \"Attention, vector length must be > 0\"\n",
    "\n",
    "    random_values = np.random.rand(c) * x.sum()\n",
    "    random_values = random_values.reshape(-1, 1)\n",
    "    \n",
    "    cumsums = np.cumsum(x).reshape(1, -1)\n",
    "    cumsums = np.repeat(cumsums, c, axis=0)\n",
    "\n",
    "    mask = cumsums < random_values\n",
    "    return mask.sum(axis=1)\n",
    "\n",
    "\n",
    "np_sample(np.array([50, 3, 1, 7, 20]), 5)"
   ],
   "outputs": [
    {
     "output_type": "execute_result",
     "data": {
      "text/plain": [
       "array([3, 0, 0, 0, 0])"
      ]
     },
     "metadata": {},
     "execution_count": 81
    }
   ],
   "metadata": {}
  },
  {
   "cell_type": "code",
   "execution_count": 45,
   "source": [
    "arr = np.random.randint(0, 100, size=(1000, ))\n",
    "c = 150\n"
   ],
   "outputs": [],
   "metadata": {}
  },
  {
   "cell_type": "code",
   "execution_count": 46,
   "source": [
    "s1 = sample(arr, c)\n",
    "s2 = np_sample(arr, c)\n",
    "\n",
    "v1 = arr[s1]\n",
    "v2 = arr[s2]"
   ],
   "outputs": [],
   "metadata": {}
  },
  {
   "cell_type": "markdown",
   "source": [
    "Чтобы убедится в равнозначности алгоритмов, проведем стат тест c уровнем значимости $\\alpha = 0.05$. Для сравнение двух дискретных распределения большого размера подойдет ttest_ind"
   ],
   "metadata": {}
  },
  {
   "cell_type": "code",
   "execution_count": 47,
   "source": [
    "from scipy.stats import ttest_ind\n",
    "\n",
    "stat, p_value = ttest_ind(s1, s2)\n",
    "print(f\"t-test: statistic={stat:.4f}, p-value={p_value:.4f}\")"
   ],
   "outputs": [
    {
     "output_type": "stream",
     "name": "stdout",
     "text": [
      "t-test: statistic=0.0012, p-value=0.9990\n"
     ]
    }
   ],
   "metadata": {}
  },
  {
   "cell_type": "markdown",
   "source": [
    "Наше p-значение составляет 0.9990, поэтому не отвергаем нулевую гипотезу об отсутствии различий в средних значениях в обеих группах."
   ],
   "metadata": {}
  },
  {
   "cell_type": "markdown",
   "source": [
    "# Задание 2.16 (5 баллов)\n",
    "\n",
    "Есть следующий алгоритм \"случайного блуждания\""
   ],
   "metadata": {}
  },
  {
   "cell_type": "code",
   "execution_count": 52,
   "source": [
    "import random \n",
    "\n",
    "def walk(n: int):\n",
    "    cur_position = 0\n",
    "    for i in range(n):\n",
    "        cur_position += random.choice([-3, -1, 0, 2, 3])\n",
    "\n",
    "    return cur_position\n",
    "\n",
    "walk(10_000)"
   ],
   "outputs": [
    {
     "output_type": "execute_result",
     "data": {
      "text/plain": [
       "1701"
      ]
     },
     "metadata": {},
     "execution_count": 52
    }
   ],
   "metadata": {}
  },
  {
   "cell_type": "markdown",
   "source": [
    "Реализуйте более эффективную версию с помощью `numpy`, сравните производительность (используя, например, magic `timeit`). Воспользовавшись [kdeplot()](https://seaborn.pydata.org/generated/seaborn.kdeplot.html) или аналогами, постройте график распределения значений `walk(10_000)` на каком-то разумном числе запусков. "
   ],
   "metadata": {}
  },
  {
   "cell_type": "code",
   "execution_count": 82,
   "source": [
    "def np_walk(n: int, a=[-3, -1, 0, 2, 3]):\n",
    "    return np.random.choice(a, size=n).sum()"
   ],
   "outputs": [],
   "metadata": {}
  },
  {
   "cell_type": "code",
   "execution_count": 34,
   "source": [
    "%%timeit\n",
    "walk(10_000)"
   ],
   "outputs": [
    {
     "output_type": "stream",
     "name": "stdout",
     "text": [
      "2.88 ms ± 67.3 µs per loop (mean ± std. dev. of 7 runs, 100 loops each)\n"
     ]
    }
   ],
   "metadata": {}
  },
  {
   "cell_type": "code",
   "execution_count": 35,
   "source": [
    "%%timeit\n",
    "np_walk(10_000)"
   ],
   "outputs": [
    {
     "output_type": "stream",
     "name": "stdout",
     "text": [
      "121 µs ± 1.16 µs per loop (mean ± std. dev. of 7 runs, 10,000 loops each)\n"
     ]
    }
   ],
   "metadata": {}
  },
  {
   "cell_type": "code",
   "execution_count": 56,
   "source": [
    "from seaborn import kdeplot"
   ],
   "outputs": [],
   "metadata": {}
  },
  {
   "cell_type": "code",
   "execution_count": 65,
   "source": [
    "launches = [np_walk(10_000) for _ in range(100)]\n",
    "kdeplot(launches)"
   ],
   "outputs": [
    {
     "output_type": "execute_result",
     "data": {
      "text/plain": [
       "<AxesSubplot: ylabel='Density'>"
      ]
     },
     "metadata": {},
     "execution_count": 65
    },
    {
     "output_type": "display_data",
     "data": {
      "image/png": "[encoded data removed]",
      "text/plain": [
       "<Figure size 640x480 with 1 Axes>"
      ]
     },
     "metadata": {}
    }
   ],
   "metadata": {}
  },
  {
   "cell_type": "markdown",
   "source": [
    "# Задание 2.17 (5 баллов)\n",
    "\n",
    "Имеется функция, которая проделывает достаточно странные манипуляции с массивом `numpy`"
   ],
   "metadata": {}
  },
  {
   "cell_type": "code",
   "execution_count": 66,
   "source": [
    "import numpy.typing as npt\n",
    "\n",
    "def strange_conv(a: npt.NDArray[np.float64]) -> np.float64:\n",
    "    x = a.shape[0]\n",
    "    y = a.shape[1]\n",
    "\n",
    "    t = 1.\n",
    "    for y in range(y - 5):\n",
    "        for x in range(x - 3):\n",
    "            c = 1.5 * a[y+1, x+2] - a[y+5, x+3] * a[y, x] + 0.2 * a[y+4, x]\n",
    "            t = 0.2 * t + 0.8 * c\n",
    "\n",
    "    return t\n",
    "\n",
    "\n",
    "a = np.random.random((10000, 10000))\n",
    "strange_conv(a)\n"
   ],
   "outputs": [
    {
     "output_type": "execute_result",
     "data": {
      "text/plain": [
       "1.1620733638943925"
      ]
     },
     "metadata": {},
     "execution_count": 66
    }
   ],
   "metadata": {}
  },
  {
   "cell_type": "markdown",
   "source": [
    "Оптимизируйте данную функцию с помощью (2 на выбор):\n",
    "- [Numba](https://numba.pydata.org)\n",
    "- `Cython` (+5 баллов)\n",
    "- [Taichi](https://github.com/taichi-dev/taichi) (+5 баллов)\n",
    "- `Pythran `[[1]](https://pythran.readthedocs.io/en/latest/), [[2]](https://serge-sans-paille.github.io/pythran-stories/pythran-tutorial.html) (+2 балла)\n",
    "\n",
    "Сравните производительность."
   ],
   "metadata": {}
  },
  {
   "cell_type": "code",
   "execution_count": 67,
   "source": [
    "%%timeit\n",
    "strange_conv(a)"
   ],
   "outputs": [
    {
     "output_type": "stream",
     "name": "stdout",
     "text": [
      "6.85 s ± 39.6 ms per loop (mean ± std. dev. of 7 runs, 1 loop each)\n"
     ]
    }
   ],
   "metadata": {}
  },
  {
   "cell_type": "code",
   "execution_count": 68,
   "source": [
    "from numba import jit"
   ],
   "outputs": [],
   "metadata": {}
  },
  {
   "cell_type": "code",
   "execution_count": 69,
   "source": [
    "strange_conv_numba = jit(nopython=True)(strange_conv)"
   ],
   "outputs": [],
   "metadata": {}
  },
  {
   "cell_type": "code",
   "execution_count": 70,
   "source": [
    "%%timeit\n",
    "strange_conv_numba(a)"
   ],
   "outputs": [
    {
     "output_type": "stream",
     "name": "stdout",
     "text": [
      "28.8 ms ± 709 µs per loop (mean ± std. dev. of 7 runs, 1 loop each)\n"
     ]
    }
   ],
   "metadata": {}
  },
  {
   "cell_type": "markdown",
   "source": [
    "Taichi solution can be found in separate file"
   ],
   "metadata": {}
  }
 ],
 "metadata": {
  "kernelspec": {
   "name": "python3",
   "display_name": "Python 3.10.8 64-bit ('venv': venv)"
  },
  "language_info": {
   "codemirror_mode": {
    "name": "ipython",
    "version": 3
   },
   "file_extension": ".py",
   "mimetype": "text/x-python",
   "name": "python",
   "nbconvert_exporter": "python",
   "pygments_lexer": "ipython3",
   "version": "3.10.8"
  },
  "orig_nbformat": 4,
  "vscode": {
   "interpreter": {
    "hash": "916dbcbb3f70747c44a77c7bcd40155683ae19c65e1c03b4aa3499c5328201f1"
   }
  },
  "interpreter": {
   "hash": "c297fa2a745451b05900aaa1d8e67bdcb601788b26d2968b81400e8972094f8b"
  }
 },
 "nbformat": 4,
 "nbformat_minor": 2
}